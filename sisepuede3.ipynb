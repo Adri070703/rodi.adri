{
 "cells": [
  {
   "cell_type": "markdown",
   "metadata": {},
   "source": [
    "# Challengen 🐧- 15m"
   ]
  },
  {
   "cell_type": "code",
   "execution_count": 9,
   "metadata": {},
   "outputs": [
    {
     "name": "stdout",
     "output_type": "stream",
     "text": [
      "cactus\n"
     ]
    }
   ],
   "source": [
    "palabra = 'cactus'\n",
    "def imprimir_palabra ():\n",
    "    print(palabra)\n",
    "\n",
    "imprimir_palabra()"
   ]
  },
  {
   "cell_type": "markdown",
   "metadata": {},
   "source": [
    "# Challengen 2 🐧- 15m"
   ]
  },
  {
   "cell_type": "code",
   "execution_count": 20,
   "metadata": {},
   "outputs": [
    {
     "name": "stdout",
     "output_type": "stream",
     "text": [
      "las letras son iguales\n"
     ]
    }
   ],
   "source": [
    "letra1 = 'a'\n",
    "letra2 = 'a'\n",
    "def comparar(letra1, letra2):\n",
    "    letra1 in letra2\n",
    "    if letra1 == letra2:\n",
    "        print('las letras son iguales')\n",
    "    else:\n",
    "        print('las letras son diferentes')\n",
    "comparar(letra1, letra2)"
   ]
  },
  {
   "cell_type": "code",
   "execution_count": 25,
   "metadata": {},
   "outputs": [
    {
     "name": "stdout",
     "output_type": "stream",
     "text": [
      "las letras son iguales\n"
     ]
    }
   ],
   "source": [
    "# Pa probar\n",
    "letra1 = input('ingrese una letra')\n",
    "letra2 = input('ingrese la misma letra')\n",
    "def comparar(letra1, letra2):\n",
    "    letra1 in letra2\n",
    "    if letra1 == letra2:\n",
    "        print('las letras son iguales')\n",
    "    else:\n",
    "        print('las letras son diferentes')\n",
    "comparar(letra1, letra2)"
   ]
  },
  {
   "cell_type": "code",
   "execution_count": null,
   "metadata": {},
   "outputs": [],
   "source": []
  },
  {
   "cell_type": "markdown",
   "metadata": {},
   "source": [
    "# Challengen 3 🐧- 15m"
   ]
  },
  {
   "cell_type": "markdown",
   "metadata": {},
   "source": [
    "Crear una función que reciba dos parámetros (una palabra y un número), y que retorne True si el número es igual a la cantidad de letras de la palabra. En caso contrario, que retorne False.\n",
    "Pista: cantidad de letras de una palabra en python"
   ]
  },
  {
   "cell_type": "code",
   "execution_count": 48,
   "metadata": {},
   "outputs": [
    {
     "name": "stdout",
     "output_type": "stream",
     "text": [
      "False\n"
     ]
    }
   ],
   "source": [
    "def no(palabra, numero2):\n",
    "    if len(palabra) == numero2:\n",
    "        return True\n",
    "    else:\n",
    "        return False\n",
    "\n",
    "si = no('kira',5)\n",
    "print(si)"
   ]
  },
  {
   "cell_type": "markdown",
   "metadata": {},
   "source": [
    "# Challenge 4  🐧- 20 min\n",
    "\n",
    "Crear función que revise si una palabra contiene una letra. En caso de que la contenga, retornar la letra entre corchetes []. De lo contrario, retornar solo la letra.\n",
    "\n",
    "pista: in"
   ]
  },
  {
   "cell_type": "code",
   "execution_count": 60,
   "metadata": {},
   "outputs": [
    {
     "name": "stdout",
     "output_type": "stream",
     "text": [
      "[a]\n"
     ]
    }
   ],
   "source": [
    "def revisar(palabra2, letra3):\n",
    "    if letra3 in palabra2:\n",
    "        return f'[{letra3}]'\n",
    "    else:\n",
    "        return letra3\n",
    "\n",
    "este = revisar('paloma', 'a')\n",
    "print(este)"
   ]
  },
  {
   "cell_type": "code",
   "execution_count": 64,
   "metadata": {},
   "outputs": [
    {
     "data": {
      "text/plain": [
       "'buena🧐'"
      ]
     },
     "execution_count": 64,
     "metadata": {},
     "output_type": "execute_result"
    }
   ],
   "source": [
    "pala = input('escriba una palabra')\n",
    "pelo = input('alguna letra que estaba en la palabra')\n",
    "def esta(pala, pelo):\n",
    "    if pelo in pala:\n",
    "        return f'buena🧐'\n",
    "    else:\n",
    "        return f'nooo gasho🐔'\n",
    "esta(pala, pelo)"
   ]
  },
  {
   "cell_type": "markdown",
   "metadata": {},
   "source": [
    "# Challenge 5  🐧- 20 min\n",
    "pedir al usuario que ingrese 1 palabra, luego convertir esa palabra a una lista con sus caracteres con list(). Agregar esa lista de caracteres a una lista llamada palabras_ingresadas. Repetir el proceso 3 veces. Cada vez que se agregue una lista de caracteres, imprimir la lista palabras_ingresadas."
   ]
  },
  {
   "cell_type": "code",
   "execution_count": 73,
   "metadata": {},
   "outputs": [
    {
     "name": "stdout",
     "output_type": "stream",
     "text": [
      "[['l', 'o', 'r', 'o'], ['p', 'a', 'p', 'a'], ['l', 'a', 'r', 'a']]\n"
     ]
    }
   ],
   "source": [
    "necesito_palabra = input('ingrese una palabra') #pido al usuario las palabras necesarias\n",
    "otra_palabra = input('otra palabra')\n",
    "otra_mas = input('otra mas')\n",
    "\n",
    "separados = list(necesito_palabra) # convierto esas palabras en silabas separadas\n",
    "sepa_rados = list(otra_palabra)\n",
    "se_pa_rados = list(otra_mas)\n",
    "\n",
    "palabras_ingresadas = [separados, sepa_rados, se_pa_rados] # creo una lista con las palabras separadas en silabas\n",
    "print(palabras_ingresadas) #imprimimos"
   ]
  },
  {
   "cell_type": "code",
   "execution_count": 76,
   "metadata": {},
   "outputs": [
    {
     "name": "stdout",
     "output_type": "stream",
     "text": [
      "[['l', 'o', 'r', 'o']]\n",
      "[['l', 'o', 'r', 'o'], ['p', 'o', 'p']]\n",
      "[['l', 'o', 'r', 'o'], ['p', 'o', 'p'], ['l', 'o', 'c', 'o']]\n"
     ]
    }
   ],
   "source": [
    "necesito_palabra2 = input('ingrese palabra') #pido al usuario\n",
    "otra_palabra2 = input('otra palabra')\n",
    "otra_mas2 = input('otra mas')\n",
    "\n",
    "separados2 = list(necesito_palabra2) #separamos las letras que nos da el usuario con list\n",
    "sepa_rados2 = list(otra_palabra2)\n",
    "se_pa_rados2 = list(otra_mas2)\n",
    "\n",
    "palabras_ingresadas2 = [separados2] # creo una lista con la palabra que nos da el usuario convertido ya con list (va estar separado en silabas)\n",
    "print(palabras_ingresadas2) #imprimo para poder ver\n",
    "\n",
    "palabras_ingresadas2.append(sepa_rados2) #se agreaga la segunda palabra\n",
    "print(palabras_ingresadas2) # se vuelve a imprimir\n",
    "\n",
    "palabras_ingresadas2.append(se_pa_rados2) # y por ultimo la tercera palabra que se le pide\n",
    "print(palabras_ingresadas2) # otra impresion para poder ver todos ya juntos"
   ]
  },
  {
   "cell_type": "code",
   "execution_count": null,
   "metadata": {},
   "outputs": [],
   "source": []
  },
  {
   "cell_type": "markdown",
   "metadata": {},
   "source": [
    "# Challenge 6  🐧- 20 min\n",
    "dada la lista de ejemplo: \n",
    "\n",
    "lista = [['h', 'o', 'l', 'i', 's'], ['h', 'e', 'l', 'l', 'o'], ['h', 'a', 'l', 'l', 'o']]\n",
    "\n",
    "Crear una función que imprima una grilla (lista de listas), una línea por cada lista dentro de la lista principal.\n",
    "\n",
    "Ejemplo del resultado esperado:\n",
    "['h', 'o', 'l', 'i', 's']\n",
    "['h', 'e', 'l', 'l', 'o']\n",
    "['h', 'a', 'l', 'l', 'o']"
   ]
  },
  {
   "cell_type": "code",
   "execution_count": 1,
   "metadata": {},
   "outputs": [
    {
     "name": "stdout",
     "output_type": "stream",
     "text": [
      "[<function lista_de_listas at 0x7fdaa2233130>]\n"
     ]
    }
   ],
   "source": [
    "primero = 'holis'\n",
    "segundo = 'hello'\n",
    "tercero = 'hallo'\n",
    "def lista_de_listas():\n",
    "    lista_de_listas = []\n",
    "    primero = list('holis')\n",
    "    segundo = list('hello')\n",
    "    tercero = list('hallo')\n",
    "\n",
    "lista_lista = [lista_de_listas]\n",
    "print(lista_lista)\n",
    "lista_lista.append(primero)"
   ]
  },
  {
   "cell_type": "code",
   "execution_count": 6,
   "metadata": {},
   "outputs": [
    {
     "name": "stdout",
     "output_type": "stream",
     "text": [
      "['h', 'o', 'l', 'i', 's']\n",
      "['h', 'e', 'l', 'l', 'o']\n",
      "['h', 'a', 'l', 'l', 'o']\n"
     ]
    }
   ],
   "source": [
    "lista = [['h', 'o', 'l', 'i', 's'],['h', 'e', 'l', 'l', 'o'],['h', 'a', 'l', 'l', 'o']]\n",
    "def imprimir_(lista1):\n",
    "    cantidad_de = len(lista1)\n",
    "\n",
    "    for fila in range(cantidad_de):\n",
    "        print(lista1[fila])\n",
    "\n",
    "imprimir_(lista)"
   ]
  }
 ],
 "metadata": {
  "kernelspec": {
   "display_name": "Python 3",
   "language": "python",
   "name": "python3"
  },
  "language_info": {
   "codemirror_mode": {
    "name": "ipython",
    "version": 3
   },
   "file_extension": ".py",
   "mimetype": "text/x-python",
   "name": "python",
   "nbconvert_exporter": "python",
   "pygments_lexer": "ipython3",
   "version": "3.10.12"
  }
 },
 "nbformat": 4,
 "nbformat_minor": 2
}
